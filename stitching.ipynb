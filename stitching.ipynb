{
 "cells": [
  {
   "cell_type": "code",
   "execution_count": null,
   "metadata": {},
   "outputs": [],
   "source": [
    "import numpy as np\n",
    "import matplotlib.pyplot as plt\n",
    "import cv2\n",
    "\n",
    "plt.rcParams['figure.figsize'] = [12, 8]\n",
    "plt.rcParams['figure.dpi'] = 100 # 200 e.g. is really fine, but slower"
   ]
  },
  {
   "cell_type": "code",
   "execution_count": null,
   "metadata": {},
   "outputs": [],
   "source": [
    "def stitch(img1, img2):\n",
    "    # За наоѓање на дескрипторите и клучните точки, подобро е процесирање\n",
    "    # врз монохроматска / црно-бела слика, затоа ги конвертираме сликите.\n",
    "    img1_gray = cv2.cvtColor(img1, cv2.COLOR_BGR2GRAY)\n",
    "    img2_gray = cv2.cvtColor(img2, cv2.COLOR_BGR2GRAY)\n",
    "\n",
    "    fig, (ax1, ax2) = plt.subplots(nrows=1, ncols=2, constrained_layout=False, figsize=(16, 9))\n",
    "\n",
    "    ax1.set_xlabel(\"Image 1\", fontsize=14)\n",
    "    ax1.imshow(cv2.cvtColor(img1, cv2.COLOR_BGR2RGB))\n",
    "\n",
    "    ax2.set_xlabel(\"Image 2\", fontsize=14)\n",
    "    ax2.imshow(cv2.cvtColor(img2, cv2.COLOR_BGR2RGB))\n",
    "    plt.show()\n",
    "\n",
    "    descriptorDetector = cv2.SIFT_create()\n",
    "    k1, d1 = descriptorDetector.detectAndCompute(img1_gray, None)\n",
    "    k2, d2 = descriptorDetector.detectAndCompute(img2_gray, None)\n",
    "\n",
    "    # Brute force matcher\n",
    "    matcher = cv2.DescriptorMatcher_create(cv2.DESCRIPTOR_MATCHER_BRUTEFORCE)\n",
    "    matches = matcher.match(d1, d2, None)\n",
    "    matches.sort(key=lambda x: x.distance, reverse=False)\n",
    "\n",
    "    # The best X%\n",
    "    num_good_matches = int(len(matches) * 0.1)\n",
    "    good_matches = matches[:num_good_matches]\n",
    "\n",
    "    if(len(good_matches) < 4):\n",
    "        print(\"ERROR! TOO FEW POINTS FOR HOMOGRAPHY!\")\n",
    "\n",
    "    imMatches = cv2.drawMatches(img1, k1, img2, k2, good_matches, None, flags=2)\n",
    "    plt.xlabel(\"Found matches\", fontsize=14)\n",
    "    plt.imshow(cv2.cvtColor(imMatches, cv2.COLOR_BGR2RGB))\n",
    "    plt.show()\n",
    "\n",
    "    # Locations of best matches\n",
    "    points1 = np.array([k1[match.queryIdx].pt for match in good_matches], dtype=np.float32)\n",
    "    points1 = points1.reshape((-1, 1, 2))\n",
    "    points2 = np.array([k2[match.trainIdx].pt for match in good_matches], dtype=np.float32)\n",
    "    points2 = points2.reshape((-1, 1, 2))\n",
    "\n",
    "    # Compute homography (2to1)\n",
    "    homography, mask = cv2.findHomography(points2, points1, cv2.RANSAC)\n",
    "\n",
    "    # Warp image plane using homography\n",
    "    result2to1 = cv2.warpPerspective(img2, homography, (img1.shape[1] + img2.shape[1], max(img1.shape[0], img2.shape[0])))\n",
    "    plt.xlabel(\"Warped Image2 to Image1's plane\", fontsize=14)\n",
    "    plt.imshow(cv2.cvtColor(result2to1, cv2.COLOR_BGR2RGB))\n",
    "    plt.show()\n",
    "\n",
    "    # Stitch img1 and img2 together\n",
    "    result2to1[0:img1.shape[0], 0:img1.shape[1]] = img1\n",
    "    plt.xlabel(\"Resulting stitched image (img2 to img1)\", fontsize=14)\n",
    "    plt.imshow(cv2.cvtColor(result2to1, cv2.COLOR_BGR2RGB))\n",
    "    plt.show()\n",
    "    \n",
    "    result = result2to1\n",
    "\n",
    "    # Правиме threshold за да се најдат контурите\n",
    "    grayResult = cv2.cvtColor(result, cv2.COLOR_BGR2GRAY)\n",
    "    threshold = cv2.threshold(grayResult, 0, 255, cv2.THRESH_BINARY)[1]\n",
    "    contours, hierarchy = cv2.findContours(threshold.copy(), cv2.RETR_TREE, cv2.CHAIN_APPROX_SIMPLE)\n",
    "    resContoutes = cv2.drawContours(result.copy(), contours, -1, (0, 255, 255))\n",
    "\n",
    "    plt.xlabel(\"Found contours\", fontsize=14)\n",
    "    plt.imshow(cv2.cvtColor(resContoutes, cv2.COLOR_BGR2RGB))\n",
    "    plt.show()\n",
    "\n",
    "    # Најди bounding box на контурата која има најголема плоштина\n",
    "    contour_maxArea = max(contours, key=cv2.contourArea)\n",
    "    (x, y, width, height) = cv2.boundingRect(contour_maxArea)\n",
    "    result = result[y: y + height, x: x + width]\n",
    "    plt.xlabel(\"Removed rightmost empty black space\", fontsize=14)\n",
    "    plt.imshow(cv2.cvtColor(result, cv2.COLOR_BGR2RGB))\n",
    "    plt.show()\n",
    "\n",
    "    return result"
   ]
  },
  {
   "cell_type": "code",
   "execution_count": null,
   "metadata": {},
   "outputs": [],
   "source": [
    "list_image_names = [\"images/S1.jpg\", \"images/S2.jpg\", \"images/S3.jpg\", \"images/S5.jpg\"]\n",
    "images = []\n",
    "for name in list_image_names:\n",
    "    images.append(cv2.imread(name))"
   ]
  },
  {
   "cell_type": "code",
   "execution_count": null,
   "metadata": {
    "scrolled": false
   },
   "outputs": [],
   "source": [
    "pairwise_stitches = []\n",
    "while(len(images) > 1):\n",
    "    while(len(images) >= 2):\n",
    "        img1 = images[0]\n",
    "        img2 = images[1]\n",
    "        stitched = stitch(img1, img2)\n",
    "        pairwise_stitches.append(stitched)\n",
    "\n",
    "        images.remove(img1)\n",
    "        images.remove(img2)\n",
    "\n",
    "    if(len(images) == 1):\n",
    "        pairwise_stitches.append(images.pop())\n",
    "\n",
    "    images.clear()\n",
    "    images.extend(pairwise_stitches)\n",
    "    pairwise_stitches.clear()"
   ]
  },
  {
   "cell_type": "code",
   "execution_count": null,
   "metadata": {},
   "outputs": [],
   "source": [
    "result = images[0]\n",
    "plt.xlabel(\"Final panorama\", fontsize=14)\n",
    "plt.imshow(cv2.cvtColor(result, cv2.COLOR_BGR2RGB))\n",
    "plt.show()"
   ]
  },
  {
   "cell_type": "code",
   "execution_count": null,
   "metadata": {},
   "outputs": [],
   "source": []
  }
 ],
 "metadata": {
  "kernelspec": {
   "display_name": "Python 3",
   "language": "python",
   "name": "python3"
  },
  "language_info": {
   "codemirror_mode": {
    "name": "ipython",
    "version": 3
   },
   "file_extension": ".py",
   "mimetype": "text/x-python",
   "name": "python",
   "nbconvert_exporter": "python",
   "pygments_lexer": "ipython3",
   "version": "3.8.5"
  }
 },
 "nbformat": 4,
 "nbformat_minor": 4
}
